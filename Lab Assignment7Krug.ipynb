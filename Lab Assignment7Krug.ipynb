{
 "cells": [
  {
   "cell_type": "markdown",
   "id": "1eb714f7-642d-4bb3-8dd7-9ee235954425",
   "metadata": {},
   "source": [
    "# Lab Assignment Seven \n",
    "### INFERENTIAL STATISTICS\n",
    "\n",
    "<h4>Submission Instructions</h4>\n",
    "<ol>\n",
    "<li><h5>Save the file as <b>labAssignment7+lastname</b>. Kindly submit in the <b>.ipynb</b> format</h5></li>\n",
    "<li><h5>Upload to Brightspace</h5></li>\n",
    "</ol>\n",
    "<h4>Dataset: Tips</h4>\n",
    "<h4>Source: Seaborn library</h4>\n",
    "<h4>example:</h4>\n",
    "<blockquote>\n",
    "    <code>tips = sns.load_dataset('tips')</code>\n",
    "</blockquote>\n",
    "<h4>Step One: Data Preparation (20 points)</h4>\n",
    "<ol>\n",
    "    <li>Import the libraries</li>\n",
    "    <li>load the data into a dataframe as show above</li>\n",
    "</ol>"
   ]
  },
  {
   "cell_type": "code",
   "execution_count": 3,
   "id": "ae8043d2-2190-455b-a97d-757d19ed4103",
   "metadata": {},
   "outputs": [
    {
     "name": "stdout",
     "output_type": "stream",
     "text": [
      "   total_bill   tip     sex smoker  day    time  size\n",
      "0       16.99  1.01  Female     No  Sun  Dinner     2\n",
      "1       10.34  1.66    Male     No  Sun  Dinner     3\n",
      "2       21.01  3.50    Male     No  Sun  Dinner     3\n",
      "3       23.68  3.31    Male     No  Sun  Dinner     2\n",
      "4       24.59  3.61  Female     No  Sun  Dinner     4\n"
     ]
    }
   ],
   "source": [
    "#Step Solution goes here\n",
    "import numpy as np\n",
    "import pandas as pd\n",
    "import matplotlib.pyplot as plt\n",
    "import seaborn as sns\n",
    "import datetime as dt\n",
    "import yfinance as yfin\n",
    "import statsmodels.api as sm\n",
    "\n",
    "tips = sns.load_dataset('tips')\n",
    "\n",
    "print(tips.head())"
   ]
  },
  {
   "cell_type": "markdown",
   "id": "52980405-62b4-4cc9-8299-6f8063019839",
   "metadata": {},
   "source": [
    "<h4>Step Two: Descriptive statistics (20 points) </h4>\n",
    "<ol>\n",
    "    <li>Use appropriate functions to compute the following:</li>\n",
    "    <ul>\n",
    "        <li>Mean</li>\n",
    "        <li>Median</li>\n",
    "        <li>Standard deviation</li>\n",
    "    </ul>\n",
    "    <li>Perform any other additional descriptive stats tasks</li>\n",
    "</ol>"
   ]
  },
  {
   "cell_type": "code",
   "execution_count": 10,
   "id": "fd6fa3e9-da30-42c4-b88e-eed4efad7f53",
   "metadata": {},
   "outputs": [
    {
     "name": "stdout",
     "output_type": "stream",
     "text": [
      "mean of the tips: 2.99827868852459\n",
      "median of the tips: 2.9\n",
      "standard deviation of the tips: 1.3836381890011822\n",
      "       total_bill         tip        size\n",
      "count  244.000000  244.000000  244.000000\n",
      "mean    19.785943    2.998279    2.569672\n",
      "std      8.902412    1.383638    0.951100\n",
      "min      3.070000    1.000000    1.000000\n",
      "25%     13.347500    2.000000    2.000000\n",
      "50%     17.795000    2.900000    2.000000\n",
      "75%     24.127500    3.562500    3.000000\n",
      "max     50.810000   10.000000    6.000000\n"
     ]
    }
   ],
   "source": [
    "#Step Solution goes here\n",
    "mean_tip = tips['tip'].mean()\n",
    "median_tip = tips['tip'].median()\n",
    "std_dev_tip = tips['tip'].std()\n",
    "print(\"mean of the tips:\",mean_tip)\n",
    "print(\"median of the tips:\",median_tip)\n",
    "print(\"standard deviation of the tips:\",std_dev_tip)\n",
    "print(tips.describe())"
   ]
  },
  {
   "cell_type": "markdown",
   "id": "63a05b89-73b6-4fa6-b701-c491c9382092",
   "metadata": {},
   "source": [
    "<h4>Step Three: Hypothesis testing (20 points)</h4>\n",
    "<ol>\n",
    "    <li>Perform a <b> two-sample t-test</b> to determine if the <b>average total_bill</b> differs for</li>\n",
    "    <ul>\n",
    "        <li>smokers</li>\n",
    "        <li>non-smokers</li>\n",
    "    </ul>\n",
    "    <li>If we assume the mean of the tips to be 3.0, peform a <b>One-sample t-test </b> to decide whether it is accurate</li>\n",
    "    <ul>\n",
    "        <li><b>Null Hypothesis (H0): The mean tip is 3.0 </b></li>\n",
    "        <li><b>Alternate Hypothesis (H1): The mean tip is not equal to 3.0 </b></li>\n",
    "    </ul>\n",
    "    <li>Follow the example we did in class to understand</li>\n",
    "    <li>Kindly indicate what you infer from the t-statistic and p-values for:</li>\n",
    "    <ul>\n",
    "        <li><b>One-sample t-test</b></li>\n",
    "        <li><b>Two-sample t-test</b></li>\n",
    "    </ul>\n",
    "</ol>"
   ]
  },
  {
   "cell_type": "code",
   "execution_count": 14,
   "id": "2f83b770-cb60-451d-aad9-5c69681fe83b",
   "metadata": {},
   "outputs": [
    {
     "name": "stdout",
     "output_type": "stream",
     "text": [
      "Two-sample t-test: 1.338436383470007 0.18201032884302448\n",
      "One-sample t-test: -0.019432641422916876 0.9845119176410544\n"
     ]
    }
   ],
   "source": [
    "#Step Solution goes here\n",
    "from scipy.stats import ttest_ind, ttest_1samp\n",
    "\n",
    "smokers = tips[tips['smoker'] == 'Yes']['total_bill']\n",
    "non_smokers = tips[tips['smoker'] == 'No']['total_bill']\n",
    "t_stat_two, p_value_two = ttest_ind(smokers, non_smokers)\n",
    "\n",
    "t_stat_one, p_value_one = ttest_1samp(tips['tip'], 3.0)\n",
    "\n",
    "print(\"Two-sample t-test:\", t_stat_two, p_value_two)\n",
    "print(\"One-sample t-test:\", t_stat_one, p_value_one)"
   ]
  },
  {
   "cell_type": "markdown",
   "id": "506c0d23-2a66-4afa-b422-35ec9093741a",
   "metadata": {},
   "source": [
    "<h4>Step Four: Confidence Interval (20 points)</h4>\n",
    "<ol>\n",
    "    <li>Write the code to find the standard_error</li>\n",
    "    <li>Use the appropriate <b>scipy</b> function to determine the confidence interval</li>\n",
    "    <li>Indicate what the confidence interval mean</li>\n",
    "</ol>\n"
   ]
  },
  {
   "cell_type": "code",
   "execution_count": 17,
   "id": "83345696-3d14-4a4f-822d-37c0ca120e24",
   "metadata": {},
   "outputs": [
    {
     "name": "stdout",
     "output_type": "stream",
     "text": [
      "Standard Error: 0.088578358337857\n",
      "95% Confidence Interval: (2.8237993062818205, 3.172758070767359)\n"
     ]
    }
   ],
   "source": [
    "#Step Solution goes here\n",
    "\n",
    "from scipy.stats import sem, t\n",
    "\n",
    "standard_error = sem(tips['tip'])\n",
    "\n",
    "confidence = 0.95\n",
    "\n",
    "mean_tip = tips['tip'].mean()\n",
    "df = len(tips['tip']) - 1\n",
    "\n",
    "critical_value = t.ppf((1 + confidence) / 2, df)\n",
    "\n",
    "margin_of_error = critical_value * standard_error\n",
    "confidence_interval = (mean_tip - margin_of_error, mean_tip + margin_of_error)\n",
    "\n",
    "print(\"Standard Error:\", standard_error)\n",
    "print(\"95% Confidence Interval:\", confidence_interval)"
   ]
  },
  {
   "cell_type": "markdown",
   "id": "e11a33c3-ff9b-4e60-a812-d6014ca83fa2",
   "metadata": {},
   "source": [
    "<h4>Step Five: Visualization (20 points)</h4>\n",
    "<ol>\n",
    "    <li>Perform the following visualizations</li>\n",
    "    <ul>\n",
    "        <li>The distribution of total_bill for smokers and non-smokers</li>\n",
    "        <li>A histogram of tips</li>\n",
    "        <li>A distribution of tips across the time of the meal</li>\n",
    "    </ul>\n",
    "</ol>"
   ]
  },
  {
   "cell_type": "code",
   "execution_count": 19,
   "id": "97a1dbc4-547e-404e-8945-f0e7bfdbef9d",
   "metadata": {},
   "outputs": [
    {
     "data": {
      "image/png": "[encoded data removed]",
      "text/plain": [
       "<Figure size 640x480 with 1 Axes>"
      ]
     },
     "metadata": {},
     "output_type": "display_data"
    },
    {
     "data": {
      "image/png": "[encoded data removed]",
      "text/plain": [
       "<Figure size 640x480 with 1 Axes>"
      ]
     },
     "metadata": {},
     "output_type": "display_data"
    },
    {
     "data": {
      "image/png": "[encoded data removed]",
      "text/plain": [
       "<Figure size 640x480 with 1 Axes>"
      ]
     },
     "metadata": {},
     "output_type": "display_data"
    }
   ],
   "source": [
    "#step Solution goes here\n",
    "\n",
    "sns.histplot(data=tips, x='total_bill', hue='smoker')\n",
    "plt.show()\n",
    "\n",
    "sns.histplot(data=tips, x='tip')\n",
    "plt.show()\n",
    "\n",
    "sns.boxplot(data=tips, x='time', y='tip')\n",
    "plt.show()\n"
   ]
  },
  {
   "cell_type": "code",
   "execution_count": null,
   "id": "1776af36-88df-4aad-8803-b84ecfabefe5",
   "metadata": {},
   "outputs": [],
   "source": []
  }
 ],
 "metadata": {
  "kernelspec": {
   "display_name": "Python 3 (ipykernel)",
   "language": "python",
   "name": "python3"
  },
  "language_info": {
   "codemirror_mode": {
    "name": "ipython",
    "version": 3
   },
   "file_extension": ".py",
   "mimetype": "text/x-python",
   "name": "python",
   "nbconvert_exporter": "python",
   "pygments_lexer": "ipython3",
   "version": "3.12.3"
  }
 },
 "nbformat": 4,
 "nbformat_minor": 5
}
