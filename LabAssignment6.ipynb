{
 "cells": [
  {
   "cell_type": "code",
   "execution_count": 97,
   "id": "b46e3502-f9ef-409d-92c8-3c366b98d4c1",
   "metadata": {},
   "outputs": [],
   "source": [
    "Age = [61,60,60,60,60,59,59,59,59,59]\n",
    "Height = [1.85,1.71,1.55,1.46,1.58,1.71,1.70,1.72,1.46,1.83]\n",
    "Weight = [109.30,79.02,74.70,35.90,97.10,79.32,73.32,85.32,36.00,104.70]"
   ]
  },
  {
   "cell_type": "code",
   "execution_count": 98,
   "id": "53857b35-d143-4604-a06b-27bf4b331589",
   "metadata": {},
   "outputs": [
    {
     "name": "stdout",
     "output_type": "stream",
     "text": [
      "Variance of age: 0.48888888888888893\n",
      "Standard deviation of age: 0.6992058987801011\n",
      "Variance of height: 0.019290000000000005\n",
      "Standard deviation of height: 0.13888844444373336\n"
     ]
    }
   ],
   "source": [
    "import math\n",
    "\n",
    "def find_var_std_dev(data):\n",
    "    mean = sum(data) / len(data)\n",
    "    variance = sum([(x - mean) ** 2 for x in data]) / (len(data) - 1)\n",
    "    std_dev = math.sqrt(variance)\n",
    "    return variance, std_dev\n",
    "\n",
    "var_age, std_dev_age = find_var_std_dev(age)\n",
    "var_height, std_dev_height = find_var_std_dev(height)\n",
    "\n",
    "print(\"Variance of age:\", var_age)\n",
    "print(\"Standard deviation of age:\", std_dev_age)\n",
    "print(\"Variance of height:\", var_height)\n",
    "print(\"Standard deviation of height:\", std_dev_height)"
   ]
  },
  {
   "cell_type": "code",
   "execution_count": 99,
   "id": "5ffeb822-e6f9-4500-80a0-e37dfe68ae03",
   "metadata": {},
   "outputs": [
    {
     "name": "stdout",
     "output_type": "stream",
     "text": [
      "Covariance between age and height: 0.006444444444444469\n"
     ]
    }
   ],
   "source": [
    "def find_covariance(list1, list2):\n",
    "    if len(list1) != len(list2):\n",
    "        raise ValueError(\"Lists must be of the same length\")\n",
    "\n",
    "    mean1 = sum(list1) / len(list1)\n",
    "    mean2 = sum(list2) / len(list2)\n",
    "    covariance = sum([(x1 - mean1) * (x2 - mean2) for x1, x2 in zip(list1, list2)]) / (len(list1) - 1)\n",
    "    return covariance\n",
    "\n",
    "cov = find_covariance(age, height)\n",
    "\n",
    "print(\"Covariance between age and height:\", cov)"
   ]
  },
  {
   "cell_type": "code",
   "execution_count": null,
   "id": "376ade42-a875-4c15-bc8e-3deda7b471a7",
   "metadata": {},
   "outputs": [],
   "source": []
  }
 ],
 "metadata": {
  "kernelspec": {
   "display_name": "Python 3 (ipykernel)",
   "language": "python",
   "name": "python3"
  },
  "language_info": {
   "codemirror_mode": {
    "name": "ipython",
    "version": 3
   },
   "file_extension": ".py",
   "mimetype": "text/x-python",
   "name": "python",
   "nbconvert_exporter": "python",
   "pygments_lexer": "ipython3",
   "version": "3.12.3"
  }
 },
 "nbformat": 4,
 "nbformat_minor": 5
}
