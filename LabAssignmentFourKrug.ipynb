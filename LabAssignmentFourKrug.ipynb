{
 "cells": [
  {
   "cell_type": "code",
   "execution_count": 1,
   "id": "aa6ba31e-1578-45da-952c-017e1c4edd91",
   "metadata": {},
   "outputs": [],
   "source": [
    "##lAB ASSIGNMENT 4 AND 5\n",
    "# AUTHOR: [Dominic]\n",
    "# DATE: [10/8/2024]\n",
    "\n",
    "#instructions:\n",
    "# rename this file LabAssignmentFour+your lastname for eg. LabAssignmentFourDebrah\n",
    "\n",
    "#submission:\n",
    "# 1. Submit to brightspace\n",
    "# 2. upload to your git account. "
   ]
  },
  {
   "cell_type": "code",
   "execution_count": 43,
   "id": "f497f66a-dcb2-48c5-ac5b-4b2bb8554549",
   "metadata": {},
   "outputs": [
    {
     "name": "stdout",
     "output_type": "stream",
     "text": [
      "12\n"
     ]
    }
   ],
   "source": [
    "##Assignment Four (4) Functions\n",
    "\n",
    "#Question One\n",
    "\n",
    "# Write a function add_numbers(a,b) which takes two parameters adds them and returns the result.\n",
    "# Don't forget to test your function\n",
    "\n",
    "def add_numbers(a, b):\n",
    "    return a + b\n",
    "result = add_numbers(5, 7)\n",
    "print(result)"
   ]
  },
  {
   "cell_type": "code",
   "execution_count": 54,
   "id": "136a96e1-1ffb-405b-aa6e-31746449bf8a",
   "metadata": {},
   "outputs": [
    {
     "name": "stdout",
     "output_type": "stream",
     "text": [
      "Minimum: 1\n",
      "Maximum: 143\n"
     ]
    }
   ],
   "source": [
    "#Question two\n",
    "\n",
    "# Write a function get_min_max(list_numbers) which returns the mininum and maximum of values from the list\n",
    "# Don't forget to test your function\n",
    "\n",
    "def get_min_max(list_numbers):\n",
    "    return min(list_numbers), max(list_numbers)\n",
    "numbers = [3,5,1,8,2,7,143]\n",
    "print(\"Minimum:\", get_min_max(numbers)[0])\n",
    "print(\"Maximum:\", get_min_max(numbers)[1])"
   ]
  },
  {
   "cell_type": "code",
   "execution_count": 56,
   "id": "de0bc95a-d8ed-4dac-a5ea-86d70a7dbd28",
   "metadata": {},
   "outputs": [
    {
     "name": "stdout",
     "output_type": "stream",
     "text": [
      "The sum of the integers equals 40\n",
      "The sum is not equal to 40\n"
     ]
    }
   ],
   "source": [
    "#Question three\n",
    "\n",
    "# Given two integers, return 'The sum of the integers equals 40' if the sum is equal to 40. If not return 'The sum is not equal to 40'\n",
    "# Don't forget to test your function\n",
    "\n",
    "def check_sum(a, b):\n",
    "    if a + b == 40:\n",
    "        return 'The sum of the integers equals 40'\n",
    "    else:\n",
    "        return 'The sum is not equal to 40'\n",
    "result1 = check_sum(20, 20)\n",
    "result2 = check_sum(10, 25)\n",
    "print(result1)\n",
    "print(result2)"
   ]
  },
  {
   "cell_type": "code",
   "execution_count": 60,
   "id": "e852fb88-6e02-4b9e-9eaf-02880445148b",
   "metadata": {},
   "outputs": [
    {
     "name": "stdout",
     "output_type": "stream",
     "text": [
      "2\n",
      "4\n",
      "6\n",
      "8\n",
      "10\n"
     ]
    }
   ],
   "source": [
    "#Question four\n",
    "\n",
    "# Write a function the prints the even numbers from a given list. \n",
    "# Don't forget to test your function.\n",
    "\n",
    "def print_even_numbers(lst):\n",
    "    for num in lst:\n",
    "        if num % 2 == 0:\n",
    "            print(num)\n",
    "numbers = [1, 2, 3, 4, 5, 6, 7, 8, 9, 10]\n",
    "print_even_numbers(numbers)"
   ]
  },
  {
   "cell_type": "code",
   "execution_count": 61,
   "id": "d432dde9-4a91-4697-b352-bed10be3923b",
   "metadata": {},
   "outputs": [
    {
     "name": "stdout",
     "output_type": "stream",
     "text": [
      "400\n",
      "50\n"
     ]
    }
   ],
   "source": [
    "#Question five\n",
    "\n",
    "# Write a function such that when there are two numbers passed to it only the product is return if the product \n",
    "# is equal to or lower than 500, else return their sum.\n",
    "#Don't forget to test your function.\n",
    "\n",
    "def calculate_product_or_sum(a, b):\n",
    "    product = a * b\n",
    "    if product <= 500:\n",
    "        return product\n",
    "    else:\n",
    "        return a + b\n",
    "result1 = calculate_product_or_sum(20, 20)\n",
    "result2 = calculate_product_or_sum(30, 20)\n",
    "print(result1)\n",
    "print(result2)"
   ]
  },
  {
   "cell_type": "code",
   "execution_count": 64,
   "id": "e91a2d9e-6463-4272-b7ea-f117460e131a",
   "metadata": {},
   "outputs": [
    {
     "name": "stdout",
     "output_type": "stream",
     "text": [
      "True\n",
      "False\n"
     ]
    }
   ],
   "source": [
    "#Question six\n",
    "\n",
    "# Write a function to check if the first and the last number of a given list is the same. \n",
    "# If they are the same then return true else return false. \n",
    "\n",
    "def check_first_last(lst):\n",
    "    if lst[0] == lst[-1]:\n",
    "        return True\n",
    "    else:\n",
    "        return False\n",
    "result1 = check_first_last([10, 20, 30, 40, 10])\n",
    "result2 = check_first_last([1, 2, 3, 4, 5])\n",
    "print(result1)\n",
    "print(result2)"
   ]
  },
  {
   "cell_type": "code",
   "execution_count": 69,
   "id": "aa9bb5ce-a57c-4805-98d1-40b3d46d4d99",
   "metadata": {},
   "outputs": [
    {
     "name": "stdout",
     "output_type": "stream",
     "text": [
      "0\n",
      "375.0\n",
      "1250.0\n"
     ]
    }
   ],
   "source": [
    "#Question seven\n",
    "\n",
    "# Write a function which calculates the income tax when a given income take is supplied as an argument. \n",
    "# use the information below to calculate the tax required. \n",
    "# Taxable Income                     Rate(in %)\n",
    "#  First $5000                        0\n",
    "#  Next  $5000                        15\n",
    "#  Remaining                          25\n",
    "\n",
    "# Kindly read on how income tax is calculated. \n",
    "# Don't forget to test your function. \n",
    "\n",
    "def calculate_income_tax(income):\n",
    "    if income <= 5000:\n",
    "        tax = 0\n",
    "    elif income <= 10000:\n",
    "        tax = (income - 5000) * 0.15\n",
    "    else:\n",
    "        tax = (5000 * 0.15) + (income - 10000) * 0.25\n",
    "    return tax\n",
    "income1 = 4000\n",
    "income2 = 7500\n",
    "income3 = 12000\n",
    "print(calculate_income_tax(income1))\n",
    "print(calculate_income_tax(income2))\n",
    "print(calculate_income_tax(income3))"
   ]
  },
  {
   "cell_type": "code",
   "execution_count": 78,
   "id": "8d1ed1c7-9c2e-4c68-84f5-8a359e31a158",
   "metadata": {},
   "outputs": [
    {
     "name": "stdout",
     "output_type": "stream",
     "text": [
      "Total inventory value: $ 770\n",
      "Banana: $4\n",
      "Pear: $2\n",
      "Apple: $3\n",
      "Watermelon: $6\n"
     ]
    }
   ],
   "source": [
    "##Assignment Four (5) Data structures\n",
    "\n",
    "#Question eight\n",
    "\n",
    "# A. Create a dictionary called fruit_store it should be empty. \n",
    "# B. Add the following fruit-unit_price pair to the dictionary you created. \n",
    "#  \"Banana\":4\n",
    "#  \"Pear\": 2\n",
    "#  \"Apple\":3\n",
    "# C. Add a new fruit-unit_price to the dictionary above \n",
    "#    \"Watermelon\": 6\n",
    "# D. Assuming the quantity of Banana is 30, Pear is 40, Apple is 70 and finally watermelon is 60\n",
    "#  i. How much is the total value of our inventory. \n",
    "# E. Print out the list of fruits and their unit_price in our store. \n",
    "\n",
    "fruit_store = {}\n",
    "fruit_store[\"Banana\"] = 4\n",
    "fruit_store[\"Pear\"] = 2\n",
    "fruit_store[\"Apple\"] = 3\n",
    "fruit_store[\"Watermelon\"] = 6\n",
    "quantities = {\n",
    "    \"Banana\": 30,\n",
    "    \"Pear\": 40,\n",
    "    \"Apple\": 70,\n",
    "    \"Watermelon\": 60\n",
    "}\n",
    "total_value = 0\n",
    "for fruit in fruit_store:\n",
    "    total_value += fruit_store[fruit] * quantities[fruit]\n",
    "\n",
    "print(\"Total inventory value: $\",total_value)\n",
    "for fruit, price in fruit_store.items():\n",
    "    print(f\"{fruit}: ${price}\")"
   ]
  },
  {
   "cell_type": "code",
   "execution_count": 83,
   "id": "379be060-383b-4a3a-a0d4-fc78b844bfcc",
   "metadata": {},
   "outputs": [
    {
     "name": "stdout",
     "output_type": "stream",
     "text": [
      "[2, 3, 4]\n"
     ]
    }
   ],
   "source": [
    "#Question nine\n",
    "\n",
    "# Given a list numbers = [0, 1, 2, 3, 4, 5, 6, 7, 8, 9] extract sublist [2, 3, 4] using slicing\n",
    "\n",
    "list = [0, 1, 2, 3, 4, 5, 6, 7, 8, 9]\n",
    "sublist = list[2:5]\n",
    "print(sublist)"
   ]
  },
  {
   "cell_type": "code",
   "execution_count": 91,
   "id": "87850364-e161-439a-b4b2-f3a527583239",
   "metadata": {},
   "outputs": [
    {
     "name": "stdout",
     "output_type": "stream",
     "text": [
      "['cat', 'dog', 'lion', 'skunk', 'elephant', 'tiger']\n"
     ]
    }
   ],
   "source": [
    "#Question ten\n",
    "\n",
    "# Given a list animals = ['cat', 'dog', 'rabbit', 'mouse', 'elephant', 'tiger'] replace the middle two elements with\n",
    "# ['lion','skunk'] using slicing and replacing.\n",
    "\n",
    "animals = [\"cat\", \"dog\", \"rabbit\", \"mouse\", \"elephant\", \"tiger\"]\n",
    "animals[2:4] = [\"lion\", \"skunk\"]\n",
    "print(animals)"
   ]
  },
  {
   "cell_type": "code",
   "execution_count": null,
   "id": "c2af6bfd-e15f-4840-a9e8-f141fcfb1740",
   "metadata": {},
   "outputs": [],
   "source": []
  }
 ],
 "metadata": {
  "kernelspec": {
   "display_name": "Python 3 (ipykernel)",
   "language": "python",
   "name": "python3"
  },
  "language_info": {
   "codemirror_mode": {
    "name": "ipython",
    "version": 3
   },
   "file_extension": ".py",
   "mimetype": "text/x-python",
   "name": "python",
   "nbconvert_exporter": "python",
   "pygments_lexer": "ipython3",
   "version": "3.12.3"
  }
 },
 "nbformat": 4,
 "nbformat_minor": 5
}
